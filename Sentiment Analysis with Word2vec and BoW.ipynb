{
 "cells": [
  {
   "cell_type": "markdown",
   "metadata": {},
   "source": [
    "# Deep Learning for NLP - Project"
   ]
  },
  {
   "cell_type": "markdown",
   "metadata": {},
   "source": [
    "RULES:\n",
    "\n",
    "* Do not create any additional cell\n",
    "\n",
    "* Fill in the blanks\n",
    "\n",
    "* All cells should be runnable (modulo trivial compatibility bugs that we'd fix)\n",
    "\n",
    "* 4 / 20 points will be allocated to the clarity of your code\n",
    "\n",
    "* Efficient code will have a bonus\n",
    "\n",
    "DELIVERABLE:\n",
    "\n",
    "* this notebook\n",
    "* the predictions of the SST test set\n",
    "\n",
    "DO NOT INCLUDE THE DATASETS IN THE DELIVERABLE.."
   ]
  },
  {
   "cell_type": "code",
   "execution_count": 1,
   "metadata": {},
   "outputs": [],
   "source": [
    "import io\n",
    "import os\n",
    "import numpy as np\n",
    "import scipy\n",
    "from scipy import linalg"
   ]
  },
  {
   "cell_type": "code",
   "execution_count": 2,
   "metadata": {},
   "outputs": [],
   "source": [
    "PATH_TO_DATA = \"C:/Users/david/Desktop/Master in Data Science/Cours/Deep Learning/Exos/Assignment 2/nlp_project/data/\""
   ]
  },
  {
   "cell_type": "markdown",
   "metadata": {},
   "source": [
    "# 1) Monolingual (English) word embeddings "
   ]
  },
  {
   "cell_type": "code",
   "execution_count": 3,
   "metadata": {},
   "outputs": [],
   "source": [
    "class Word2vec():\n",
    "    def __init__(self, fname, nmax=100000):\n",
    "        self.load_wordvec(fname, nmax)\n",
    "        self.word2id = dict.fromkeys(self.word2vec.keys())\n",
    "        self.id2word = {v: k for k, v in self.word2id.items()}\n",
    "        self.embeddings = np.array(self.word2vec.values())\n",
    "    \n",
    "    def load_wordvec(self, fname, nmax):\n",
    "        self.word2vec = {}\n",
    "        with io.open(fname, encoding='utf-8') as f:\n",
    "            next(f)\n",
    "            for i, line in enumerate(f):\n",
    "                word, vec = line.split(' ', 1)\n",
    "                self.word2vec[word] = np.fromstring(vec, sep=' ')\n",
    "                if i == (nmax - 1):\n",
    "                    break\n",
    "        print('Loaded %s pretrained word vectors' % (len(self.word2vec)))\n",
    "\n",
    "    def most_similar(self, w, K=5):\n",
    "        # K most similar words: self.score  -  np.argsort \n",
    "        print(\"Nearest neighbors of \\\"%s\\\":\" % w)\n",
    "        scores = []\n",
    "        indices = []\n",
    "        for v in self.word2id.keys():\n",
    "            scores.append(self.score(w,v))\n",
    "            indices.append(v)# K most similar words: self.score  -  np.argsort \n",
    "        scores_sorted = np.argsort(scores)\n",
    "        most_sim = []\n",
    "        \n",
    "        for i in range(K):\n",
    "            most_sim.append(indices[scores_sorted[-i-1]])\n",
    "        return most_sim\n",
    "\n",
    "    def score(self, w1, w2):\n",
    "        # cosine similarity: np.dot  -  np.linalg.norm\n",
    "        cos = np.dot(self.word2vec[w1],self.word2vec[w2]) /(np.linalg.norm(self.word2vec[w1])*np.linalg.norm(self.word2vec[w2]))\n",
    "        #with self.word2vec[w1] the word embedding of w1 and self.word2vec[w2] the word embedding of w2\n",
    "        return cos \n"
   ]
  },
  {
   "cell_type": "code",
   "execution_count": 4,
   "metadata": {},
   "outputs": [
    {
     "name": "stdout",
     "output_type": "stream",
     "text": [
      "Loaded 200000 pretrained word vectors\n",
      "cat dog 0.671683666279249\n",
      "dog pet 0.6842064029669219\n",
      "dogs cats 0.7074389328052403\n",
      "paris france 0.7775108541288561\n",
      "germany berlin 0.7420295235998392\n",
      "Nearest neighbors of \"cat\":\n",
      "['cat', 'cats', 'kitty', 'kitten', 'feline']\n",
      "Nearest neighbors of \"dog\":\n",
      "['dog', 'dogs', 'puppy', 'Dog', 'doggie']\n",
      "Nearest neighbors of \"dogs\":\n",
      "['dogs', 'dog', 'pooches', 'Dogs', 'doggies']\n",
      "Nearest neighbors of \"paris\":\n",
      "['paris', 'france', 'Paris', 'parisian', 'london']\n",
      "Nearest neighbors of \"germany\":\n",
      "['germany', 'austria', 'europe', 'german', 'berlin']\n"
     ]
    }
   ],
   "source": [
    "w2v = Word2vec(os.path.join(PATH_TO_DATA, 'crawl-300d-200k.vec'), nmax=250000)\n",
    "\n",
    "# You will be evaluated on the output of the following:\n",
    "for w1, w2 in zip(('cat', 'dog', 'dogs', 'paris', 'germany'), ('dog', 'pet', 'cats', 'france', 'berlin')):\n",
    "    print(w1, w2, w2v.score(w1, w2))\n",
    "for w1 in ['cat', 'dog', 'dogs', 'paris', 'germany']:\n",
    "    print(w2v.most_similar(w1))"
   ]
  },
  {
   "cell_type": "code",
   "execution_count": 7,
   "metadata": {},
   "outputs": [],
   "source": [
    "class BoV():\n",
    "    def __init__(self, w2v):\n",
    "        self.w2v = w2v\n",
    "    \n",
    "    def encode(self, sentences, idf=False):\n",
    "        # takes a list of sentences, outputs a numpy array of sentence embeddings\n",
    "        # The first is a simple combination, where each sentence is represented by the average of the word embedding vectors of the words that compose the sentence.\n",
    "        # The second approach also averages the word embedding vectors, but each embedding vector is now weighted (multiplied) by the tf-idf of the word it represents.\n",
    "        sentemb = []\n",
    "        for sent in sentences:\n",
    "            if idf is False:\n",
    "                # mean of word vectors\n",
    "                mean_word_embedding=np.zeros(300)\n",
    "                len_sent=0\n",
    "                for w in sent.split():\n",
    "                    try :\n",
    "                        mean_word_embedding = mean_word_embedding + self.w2v.word2vec[w]\n",
    "                        len_sent = len_sent + 1\n",
    "                    except :\n",
    "                        continue\n",
    "                mean_word_embedding=mean_word_embedding/len_sent\n",
    "                sentemb.append(mean_word_embedding)\n",
    "                #assert False\n",
    "            else:\n",
    "                idf_word_embedding=np.zeros(300)\n",
    "                len_sent=0\n",
    "                #idf-weighted mean of word vectors\n",
    "                for w in sent.split():\n",
    "                    try :\n",
    "                        idf_word_embedding = idf_word_embedding + self.w2v.word2vec[w]*idf[w]\n",
    "                        len_sent=len_sent+idf[w]\n",
    "                    except :\n",
    "                        continue\n",
    "                idf_word_embedding=idf_word_embedding/len_sent\n",
    "                sentemb.append(idf_word_embedding)\n",
    "                #assert False\n",
    "        return np.vstack(sentemb)    \n",
    "    \n",
    "\n",
    "    def most_similar(self, s, sentences, idf=False, K=5):\n",
    "        scores = []\n",
    "        indices = []\n",
    "        for sent in sentences :\n",
    "            scores.append(self.score(s,sent,idf))\n",
    "            indices.append(sent)# K most similar words: self.score  -  np.argsort \n",
    "        scores = np.array(scores)\n",
    "        scores_sorted = np.argsort(scores)\n",
    "        most_sim = []\n",
    "        for i in scores_sorted[scores_sorted.shape[0]-6:-1]:\n",
    "            most_sim.append(indices[i])\n",
    "        return most_sim\n",
    "    \n",
    "    \n",
    "    def score(self, s1, s2, idf=False):\n",
    "        # cosine similarity: use   np.dot  and  np.linalg.norm\n",
    "        s1_emb = self.encode([s1],idf).reshape(300)\n",
    "        s2_emb = self.encode([s2],idf).reshape(300)\n",
    "        cos = np.dot(s1_emb,s2_emb) /(np.linalg.norm(s1_emb)*np.linalg.norm(s2_emb))\n",
    "        return cos\n",
    "    \n",
    "    def build_idf(self, sentences):\n",
    "        # build the idf dictionary: associate each word to its idf value\n",
    "        idf = {}\n",
    "        for sent in sentences:\n",
    "            for w in set(sent.split()):\n",
    "                 idf[w] = idf.get(w, 0) + 1\n",
    "        for word, val in idf.items() :\n",
    "            idf[word]= max(1,np.log10(len(sentences) / (val)))\n",
    "        return idf\n",
    "        \n"
   ]
  },
  {
   "cell_type": "code",
   "execution_count": 6,
   "metadata": {},
   "outputs": [],
   "source": [
    "# Load sentences in \"PATH_TO_DATA/sentences.txt\"\n",
    "sentences = open(\"C:/Users/david/Desktop/Master in Data Science/Cours/Deep Learning/Exos/Assignment 2/nlp_project/data/sentences.txt\").read().split(\"\\n\")\n"
   ]
  },
  {
   "cell_type": "code",
   "execution_count": 7,
   "metadata": {
    "scrolled": true
   },
   "outputs": [
    {
     "name": "stdout",
     "output_type": "stream",
     "text": [
      "Loaded 50000 pretrained word vectors\n"
     ]
    },
    {
     "name": "stderr",
     "output_type": "stream",
     "text": [
      "C:\\Users\\david\\Anaconda3\\envs\\deeplearning\\lib\\site-packages\\ipykernel_launcher.py:21: RuntimeWarning: invalid value encountered in true_divide\n"
     ]
    },
    {
     "name": "stdout",
     "output_type": "stream",
     "text": [
      "['an afican american woman standing behind two small african american children . ', 'an african american in sunglasses and a white tee-shirt smiles . ', 'a little african american boy and girl looking up . ', 'an african american man smiling . ', '1 smiling african american boy . ']\n",
      "0.5726258859719607\n",
      "['an afican american woman standing behind two small african american children . ', 'a little african american boy and girl looking up . ', 'an african american man is sitting . ', 'an african american man smiling . ', '1 smiling african american boy . ']\n",
      "0.47514504853169526\n"
     ]
    },
    {
     "name": "stderr",
     "output_type": "stream",
     "text": [
      "C:\\Users\\david\\Anaconda3\\envs\\deeplearning\\lib\\site-packages\\ipykernel_launcher.py:34: RuntimeWarning: invalid value encountered in true_divide\n"
     ]
    }
   ],
   "source": [
    "w2v = Word2vec(os.path.join(PATH_TO_DATA, 'crawl-300d-200k.vec'), nmax=50000)\n",
    "s2v = BoV(w2v)\n",
    "\n",
    "# Load sentences in \"PATH_TO_DATA/sentences.txt\"\n",
    "sentences = open(\"C:/Users/david/Desktop/Master in Data Science/Cours/Deep Learning/Exos/Assignment 2/nlp_project/data/sentences.txt\").read().split(\"\\n\")\n",
    "\n",
    "\n",
    "# Build idf scores for each word\n",
    "idf = s2v.build_idf(sentences)# if True else \n",
    "\n",
    "# You will be evaluated on the output of the following:\n",
    "print(s2v.most_similar('' if not sentences else sentences[10], sentences))  # BoV-mean\n",
    "print(s2v.score('' if not sentences else sentences[7], '' if not sentences else sentences[13]))\n",
    "\n",
    "\n",
    "  \n",
    "print(s2v.most_similar('' if not sentences else sentences[10], sentences, idf))  # BoV-idf\n",
    "print(s2v.score('' if not sentences else sentences[7], '' if not sentences else sentences[13], idf))"
   ]
  },
  {
   "cell_type": "markdown",
   "metadata": {},
   "source": [
    "# 2) Multilingual (English-French) word embeddings"
   ]
  },
  {
   "cell_type": "markdown",
   "metadata": {},
   "source": [
    "Let's consider a bilingual dictionary of size V_a (e.g French-English).\n",
    "\n",
    "Let's define **X** and **Y** the **French** and **English** matrices.\n",
    "\n",
    "They contain the embeddings associated to the words in the bilingual dictionary.\n",
    "\n",
    "We want to find a **mapping W** that will project the source word space (e.g French) to the target word space (e.g English).\n",
    "\n",
    "Procrustes : **W\\* = argmin || W.X - Y ||  s.t  W^T.W = Id**\n",
    "has a closed form solution:\n",
    "**W = U.V^T  where  U.Sig.V^T = SVD(Y.X^T)**\n",
    "\n",
    "In what follows, you are asked to: "
   ]
  },
  {
   "cell_type": "code",
   "execution_count": 8,
   "metadata": {},
   "outputs": [
    {
     "name": "stdout",
     "output_type": "stream",
     "text": [
      "Loaded 50000 pretrained word vectors\n",
      "Loaded 50000 pretrained word vectors\n"
     ]
    }
   ],
   "source": [
    "# 1 - Download and load 50k first vectors of\n",
    "  #https://s3-us-west-1.amazonaws.com/fasttext-vectors/wiki.en.vec\n",
    "  #https://s3-us-west-1.amazonaws.com/fasttext-vectors/wiki.fr.vec\n",
    "\n",
    "# TYPE CODE HERE\n",
    "Eng = Word2vec(os.path.join(PATH_TO_DATA, 'wiki.en.vec'), nmax=50000)\n",
    "Fra = Word2vec(os.path.join(PATH_TO_DATA, 'wiki.fr.vec'), nmax=50000)\n",
    "\n"
   ]
  },
  {
   "cell_type": "code",
   "execution_count": 9,
   "metadata": {},
   "outputs": [],
   "source": [
    "# 2 - Get words that appear in both vocabs (= identical character strings)\n",
    "#     Use it to create the matrix X and Y (of aligned embeddings for these words)\n",
    "\n",
    "Eng_words = set(Eng.word2id.keys())\n",
    "Fra_words = set(Fra.word2id.keys())\n",
    "bilingual_dictionary=Eng_words.intersection(Fra_words)\n",
    "\n",
    "\n",
    "X = []\n",
    "Y = []\n",
    "for word in bilingual_dictionary :\n",
    "    X.append(Fra.word2vec[word])\n",
    "    Y.append(Eng.word2vec[word])\n",
    "X=np.asarray(X).T\n",
    "Y=np.asarray(Y).T"
   ]
  },
  {
   "cell_type": "code",
   "execution_count": 10,
   "metadata": {},
   "outputs": [
    {
     "data": {
      "text/plain": [
       "(300, 18970)"
      ]
     },
     "execution_count": 10,
     "metadata": {},
     "output_type": "execute_result"
    }
   ],
   "source": [
    "X.shape"
   ]
  },
  {
   "cell_type": "code",
   "execution_count": 11,
   "metadata": {},
   "outputs": [],
   "source": [
    "# 3 - Solve the Procrustes using the scipy package and: scipy.linalg.svd() and get the optimal W\n",
    "#     Now W*French_vector is in the same space as English_vector\n",
    "\n",
    "U,sigma,Vt = linalg.svd(np.dot(Y,X.T))\n",
    "W = np.dot(U,Vt)"
   ]
  },
  {
   "cell_type": "code",
   "execution_count": 12,
   "metadata": {},
   "outputs": [],
   "source": [
    "# 4 - After alignment with W, give examples of English nearest neighbors of some French words (and vice versa)\n",
    "#     You will be evaluated on that part and the code above\n",
    "Eng_dictionary = {}\n",
    "Fra_dictionary = {}\n",
    "for word in bilingual_dictionary :\n",
    "    Eng_dictionary[word] = Eng.word2vec[word]\n",
    "\n",
    "    Fra_dictionary[word] = Fra.word2vec[word]\n",
    "\n"
   ]
  },
  {
   "cell_type": "code",
   "execution_count": 13,
   "metadata": {},
   "outputs": [],
   "source": [
    "i=0\n",
    "new_space = (np.dot(W,X)).T\n",
    "for word in Fra_dictionary.keys():\n",
    "    Fra_dictionary[word] = new_space[i]\n",
    "    i=i+1"
   ]
  },
  {
   "cell_type": "code",
   "execution_count": 14,
   "metadata": {},
   "outputs": [],
   "source": [
    "def score(word_french,word_english):\n",
    "    word_french= np.dot(W,Fra.word2vec[word_french]) #word french embedding in english space\n",
    "    word_english= Eng.word2vec[word_english] # word english embedding\n",
    "    cosine_similarity = (np.dot(word_french,word_english))/(np.linalg.norm(word_french)*np.linalg.norm(word_english))\n",
    "    return cosine_similarity\n",
    "\n",
    "def most_similar_fra2eng(w_french, K=5):\n",
    "    # K most similar words: self.score  -  np.argsort \n",
    "    similarity_vector=[]\n",
    "    words=[]\n",
    "    for w_english in Eng.word2vec.keys(): \n",
    "        similarity_vector.append(score(w_french,w_english))\n",
    "        words.append(w_english)\n",
    "    similarity_vector = np.array(similarity_vector)\n",
    "    sorted_similarity=np.argsort(similarity_vector) #indice sorted\n",
    "    k_most_similar=[]\n",
    "    for i in sorted_similarity[sorted_similarity.shape[0]-6:-1]: #-1 pour pas que lui meme apparait dans les plus similaires\n",
    "        k_most_similar.append(words[i])\n",
    "    return k_most_similar\n",
    "\n",
    "\n",
    "def most_similar_eng2fra(w_english, K=5):\n",
    "    # K most similar words: self.score  -  np.argsort \n",
    "    similarity_vector=[]\n",
    "    words=[]\n",
    "    for w_french in Fra.word2vec.keys(): \n",
    "        similarity_vector.append(score(w_french,w_english))\n",
    "        words.append(w_french)\n",
    "    similarity_vector = np.array(similarity_vector)\n",
    "    sorted_similarity=np.argsort(similarity_vector) #indice sorted\n",
    "    k_most_similar=[]\n",
    "    for i in sorted_similarity[sorted_similarity.shape[0]-6:-1]: #-1 pour pas que lui meme apparait dans les plus similaires\n",
    "        k_most_similar.append(words[i])\n",
    "    return k_most_similar\n"
   ]
  },
  {
   "cell_type": "code",
   "execution_count": 15,
   "metadata": {},
   "outputs": [
    {
     "name": "stdout",
     "output_type": "stream",
     "text": [
      "['eriksson', 'hansson', 'erik', 'lars', 'anders']\n",
      "['comédie', 'tableaux', 'libretto', 'comique', 'acts']\n",
      "['legislature', 'etat', 'statehood', 'estado', 'état']\n",
      "['herself', 'hers', 'claire', 'her', 'elle']\n",
      "['femoral', 'tendon', 'ligament', 'ligaments', 'tendons']\n"
     ]
    }
   ],
   "source": [
    "test_french = [\"lasse\",\"actes\",\"état\",\"elle\",\"cartilage\"]\n",
    "for words in test_french :\n",
    "    print(most_similar_fra2eng(words))"
   ]
  },
  {
   "cell_type": "code",
   "execution_count": 16,
   "metadata": {
    "scrolled": true
   },
   "outputs": [
    {
     "name": "stdout",
     "output_type": "stream",
     "text": [
      "['sauce', 'porc', 'pizza', 'dinde', 'poulet']\n",
      "['chicken', 'chienne', 'chiens', 'hound', 'chien']\n",
      "['plaisante', 'courage', 'irréprochable', 'incomparable', 'modestie']\n",
      "['usb', 'téléphones', 'portables', 'gsm', 'bluetooth']\n",
      "['defensive', 'offensifs', 'tackle', 'défensive', 'offensives']\n"
     ]
    }
   ],
   "source": [
    "test_english = [\"chicken\",\"dog\",\"admirable\",\"wifi\",\"offensive\"]\n",
    "for words in test_english :\n",
    "    print(most_similar_eng2fra(words))"
   ]
  },
  {
   "cell_type": "markdown",
   "metadata": {},
   "source": [
    "If you want to dive deeper on this subject: https://github.com/facebookresearch/MUSE"
   ]
  },
  {
   "cell_type": "markdown",
   "metadata": {},
   "source": [
    "# 3) Sentence classification with BoV and scikit-learn"
   ]
  },
  {
   "cell_type": "code",
   "execution_count": 17,
   "metadata": {},
   "outputs": [],
   "source": [
    "# 1 - Load train/dev/test of Stanford Sentiment TreeBank (SST)\n",
    "#     (https://nlp.stanford.edu/~socherr/EMNLP2013_RNTN.pdf)\n",
    "\n",
    "sentences_train=open(\"C:/Users/david/Desktop/Master in Data Science/Cours/Deep Learning/Exos/Assignment 2/nlp_project/data/SST/stsa.fine.train\").read().split(\"\\n\")\n",
    "sentences_dev=open(\"C:/Users/david/Desktop/Master in Data Science/Cours/Deep Learning/Exos/Assignment 2/nlp_project/data/SST/stsa.fine.dev\").read().split(\"\\n\")\n",
    "sentences_test=open(\"C:/Users/david/Desktop/Master in Data Science/Cours/Deep Learning/Exos/Assignment 2/nlp_project/data/SST/stsa.fine.test.X\").read().split(\"\\n\")"
   ]
  },
  {
   "cell_type": "code",
   "execution_count": 18,
   "metadata": {},
   "outputs": [
    {
     "name": "stdout",
     "output_type": "stream",
     "text": [
      "Loaded 200000 pretrained word vectors\n"
     ]
    }
   ],
   "source": [
    "# 2 - Encode sentences with the BoV model above\n",
    "w2v = Word2vec(os.path.join(PATH_TO_DATA, 'crawl-300d-200k.vec'), nmax=200000)\n",
    "s2v = BoV(w2v)\n",
    "\n",
    "# Last sentence is \"\", hence we remove it\n",
    "sentences_train = sentences_train[:-1]\n",
    "\n",
    "\n",
    "\n",
    "#Extract the classification label in training set: 0/1/2/3/4\n",
    "x_train=[]\n",
    "y_train=[]\n",
    "for sent in sentences_train:\n",
    "        y_train.append(sent[0])\n",
    "        x_train.append(sent[1:])\n",
    "\n",
    "#Build idf\n",
    "idf = s2v.build_idf(x_train)        \n",
    "        \n",
    "#Building X train for average of word vector and weighted average\n",
    "\n",
    "X_train_AMW =s2v.encode(x_train,idf=False)\n",
    "X_train_WA = s2v.encode(x_train,idf)\n",
    "\n",
    "\n",
    "\n",
    "\n",
    "\n"
   ]
  },
  {
   "cell_type": "code",
   "execution_count": 19,
   "metadata": {},
   "outputs": [
    {
     "name": "stdout",
     "output_type": "stream",
     "text": [
      "Loaded 200000 pretrained word vectors\n"
     ]
    }
   ],
   "source": [
    "w2v = Word2vec(os.path.join(PATH_TO_DATA, 'crawl-300d-200k.vec'), nmax=200000)\n",
    "s2v = BoV(w2v)\n",
    "\n",
    "# Last sentence is \"\", hence we remove it\n",
    "sentences_dev = sentences_dev[:-1]\n",
    "\n",
    "#Extract the classification label in dev set: 0/1/2/3/4  \n",
    "x_dev=[]\n",
    "y_dev=[]\n",
    "for sent in sentences_dev:\n",
    "        y_dev.append(sent[0])\n",
    "        x_dev.append(sent[1:])\n",
    "        \n",
    "        \n",
    "idf = s2v.build_idf(x_dev)\n",
    "\n",
    "#Building X dev for average of word vector and weighted average\n",
    "\n",
    "X_dev_AMW =s2v.encode(x_dev,idf=False)\n",
    "X_dev_WA = s2v.encode(x_dev,idf)\n"
   ]
  },
  {
   "cell_type": "code",
   "execution_count": 20,
   "metadata": {},
   "outputs": [],
   "source": [
    "# Last sentence is \"\", hence we remove it\n",
    "sentences_test = sentences_test[:-1]\n",
    "\n",
    "idf = s2v.build_idf(sentences_test)\n",
    "#Building X test for average of word vector and weighted average\n",
    "X_test_AMW =s2v.encode(sentences_test,idf=False)\n",
    "X_test_WA = s2v.encode(sentences_test,idf)\n"
   ]
  },
  {
   "cell_type": "code",
   "execution_count": 21,
   "metadata": {},
   "outputs": [
    {
     "name": "stdout",
     "output_type": "stream",
     "text": [
      "Training score using the average of word vectors: 0.50\n",
      "Dev score using the average of word vectors: 0.44\n"
     ]
    }
   ],
   "source": [
    "# 3 - Learn Logistic Regression on top of sentence embeddings using scikit-learn\n",
    "#     (consider tuning the L2 regularization on the dev set)\n",
    "\n",
    "# TYPE CODE HERE\n",
    "from sklearn.linear_model import LogisticRegression\n",
    "from sklearn.model_selection import GridSearchCV\n",
    "\n",
    "# Fit a logistic regression for Average of Word vector\n",
    "\n",
    "logreg_AWV=LogisticRegression(random_state=0, solver='lbfgs',multi_class='multinomial',max_iter= 10000,penalty=\"l2\").fit(X_train_AMW,y_train)\n",
    "\n",
    "print('Training score using the average of word vectors: {:.2f}'.format(logreg_AWV.score(X_train_AMW,y_train)))\n",
    "print('Dev score using the average of word vectors: {:.2f}'.format(logreg_AWV.score(X_dev_AMW,y_dev)))\n",
    "\n",
    "#print(\"tuned hpyerparameters :(best parameters) \",logreg_AWV.best_params_)\n",
    "#print(\"accuracy :\",logreg_AWV.best_score_)\n",
    "\n",
    "\n"
   ]
  },
  {
   "cell_type": "code",
   "execution_count": 22,
   "metadata": {},
   "outputs": [
    {
     "name": "stdout",
     "output_type": "stream",
     "text": [
      "Training score using the weighted average of vectors: 0.50\n",
      "Dev score using the weighted average of vectors : 0.42\n"
     ]
    }
   ],
   "source": [
    "# Fit a logistic regression for Weighted Average\n",
    "\n",
    "logreg_WA=LogisticRegression(random_state=0, solver='lbfgs',multi_class='multinomial',max_iter = 10000).fit(X_train_WA,y_train)\n",
    "\n",
    "print('Training score using the weighted average of vectors: {:.2f}'.format(logreg_WA.score(X_train_WA,y_train)))\n",
    "print('Dev score using the weighted average of vectors : {:.2f}'.format(logreg_WA.score(X_dev_WA,y_dev)))\n"
   ]
  },
  {
   "cell_type": "code",
   "execution_count": 23,
   "metadata": {},
   "outputs": [],
   "source": [
    "# 4 - Produce 2210 predictions for the test set (in the same order). One line = one prediction (=0,1,2,3,4).\n",
    "#     Attach the output file \"logreg_bov_y_test_sst.txt\" to your deliverable.\n",
    "#     You will be evaluated on the results of the test set.\n",
    "\n",
    "#Predictions on test set for Average Word Vector\n",
    "\n",
    "y_pred_AMW = logreg_AWV.predict(X_test_AMW)\n",
    "\n",
    "with open(\"logreg_AWV_bov_y_test_sst.txt\",\"w\") as pred1:\n",
    "    for row in y_pred_AMW:\n",
    "        pred1.write(row)\n",
    "        pred1.write('\\n')\n",
    "\n",
    "#Predictions on test set for Weighted Average\n",
    "        \n",
    "y_pred_WA = logreg_WA.predict(X_test_AMW)\n",
    "\n",
    "with open(\"logreg_WA_bov_y_test_sst.txt\",\"w\") as pred1:\n",
    "    for row in y_pred_WA:\n",
    "        pred1.write(row)\n",
    "        pred1.write('\\n')"
   ]
  },
  {
   "cell_type": "code",
   "execution_count": 24,
   "metadata": {},
   "outputs": [
    {
     "name": "stdout",
     "output_type": "stream",
     "text": [
      "Training score using the average of word vectors: 0.62\n",
      "Dev score using the average of word vectors: 0.41\n",
      "Training score using the average of word vectors: 0.52\n",
      "Dev score using the weighted average of vectorss: 0.40\n"
     ]
    }
   ],
   "source": [
    "# BONUS!\n",
    "# 5 - Try to improve performance with another classifier\n",
    "#     Attach the output file \"XXX_bov_y_test_sst.txt\" to your deliverable (where XXX = the name of the classifier)\n",
    "\n",
    "#XGboost classifier on Average Word vectors \n",
    "from xgboost import XGBClassifier\n",
    "\n",
    "xgb_AWV=XGBClassifier()\n",
    "xgb_AWV.fit(X_train_AMW, y_train)\n",
    "\n",
    "print('Training score using the average of word vectors: {:.2f}'.format(xgb_AWV.score(X_train_AMW,y_train)))\n",
    "print('Dev score using the average of word vectors: {:.2f}'.format(xgb_AWV.score(X_dev_AMW,y_dev)))\n",
    "\n",
    "#Predictions on test set for Average Word Vector\n",
    "\n",
    "y_pred_AMW = xgb_AWV.predict(X_test_AMW)\n",
    "\n",
    "with open(\"XGboost_bov_y_test_sst.txt\",\"w\") as pred1:\n",
    "    for row in y_pred_AMW:\n",
    "        pred1.write(row)\n",
    "        pred1.write('\\n')\n",
    "\n",
    "#XGboost classifier on Weighted Average     \n",
    "        \n",
    "xgb_WA=XGBClassifier()\n",
    "xgb_WA.fit(X_train_AMW, y_train)\n",
    "\n",
    "print('Training score using the average of word vectors: {:.2f}'.format(xgb_WA.score(X_train_WA,y_train)))\n",
    "print('Dev score using the weighted average of vectorss: {:.2f}'.format(xgb_WA.score(X_dev_WA,y_dev)))\n",
    "#Predictions on test set for Weighted Average\n",
    "        \n",
    "y_pred_WA = logreg_WA.predict(X_test_WA)\n",
    "\n",
    "with open(\"XGboost_bov_y_test_sst.txt\",\"w\") as pred1:\n",
    "    for row in y_pred_WA:\n",
    "        pred1.write(row)\n",
    "        pred1.write('\\n')"
   ]
  },
  {
   "cell_type": "markdown",
   "metadata": {},
   "source": [
    "# 4) Sentence classification with LSTMs in Keras"
   ]
  },
  {
   "cell_type": "markdown",
   "metadata": {},
   "source": [
    "## 4.1 - Preprocessing"
   ]
  },
  {
   "cell_type": "code",
   "execution_count": 2,
   "metadata": {},
   "outputs": [
    {
     "name": "stderr",
     "output_type": "stream",
     "text": [
      "Using TensorFlow backend.\n"
     ]
    }
   ],
   "source": [
    "import keras"
   ]
  },
  {
   "cell_type": "code",
   "execution_count": 3,
   "metadata": {},
   "outputs": [],
   "source": [
    "# 1 - Load train/dev/test sets of SST\n",
    "PATH_TO_DATA = \"C:/Users/david/Desktop/Master in Data Science/Cours/Deep Learning/Exos/Assignment 2/nlp_project/data/SST\"\n",
    "\n",
    "# TYPE CODE HERE\n",
    "sentences_train=open(\"C:/Users/david/Desktop/Master in Data Science/Cours/Deep Learning/Exos/Assignment 2/nlp_project/data/SST/stsa.fine.train\").read().split(\"\\n\")\n",
    "sentences_dev=open(\"C:/Users/david/Desktop/Master in Data Science/Cours/Deep Learning/Exos/Assignment 2/nlp_project/data/SST/stsa.fine.dev\").read().split(\"\\n\")\n",
    "sentences_test=open(\"C:/Users/david/Desktop/Master in Data Science/Cours/Deep Learning/Exos/Assignment 2/nlp_project/data/SST/stsa.fine.test.X\").read().split(\"\\n\")"
   ]
  },
  {
   "cell_type": "code",
   "execution_count": 4,
   "metadata": {},
   "outputs": [],
   "source": [
    "# Removing last sentence which is empty ''\n",
    "sentences_train = sentences_train[0:len(sentences_train)-1]\n",
    "sentences_dev = sentences_dev[0:len(sentences_dev)-1]\n",
    "sentences_test = sentences_test[0:len(sentences_test)-1]\n",
    "\n",
    "#Define training set and class labels\n",
    "x_train=[]\n",
    "y_train=[]\n",
    "for sent in sentences_train:\n",
    "    y_train.append(sent[0])\n",
    "    x_train.append(sent[1:])\n",
    "\n",
    "y_train = keras.utils.to_categorical(y_train, num_classes=5)\n",
    "\n",
    "#Define dev set and class labels\n",
    "x_dev=[]\n",
    "y_dev=[]\n",
    "for sent in sentences_dev:\n",
    "    y_dev.append(sent[0])\n",
    "    x_dev.append(sent[1:])\n",
    "    \n",
    "y_dev = keras.utils.to_categorical(y_dev, num_classes=5)\n",
    "\n",
    "#Define test set \n",
    "x_test = sentences_test"
   ]
  },
  {
   "cell_type": "code",
   "execution_count": 5,
   "metadata": {},
   "outputs": [],
   "source": [
    "# 2 - Transform text to integers using keras.preprocessing.text.one_hot function\n",
    "#     https://keras.io/preprocessing/text/\n",
    "\n",
    "#Finding number of words in vocabulary : \n",
    "vocab = len(set([w for sent in (x_train+x_dev+x_test) for w in sent.split() ]))\n",
    "\n",
    "#Tokenizing training sentences\n",
    "l_train=[]\n",
    "for i in range(len(x_train)):\n",
    "    l_train.append(keras.preprocessing.text.one_hot(x_train[i], vocab, filters='!\"#$%&()*+,-./:;<=>?@[\\]^_`{|}~', split=' '))\n",
    "\n",
    "#Tokenizing dev sentences\n",
    "l_dev=[]\n",
    "for i in range(len(x_dev)):\n",
    "    l_dev.append(keras.preprocessing.text.one_hot(x_dev[i], vocab, filters='!\"#$%&()*+,-./:;<=>?@[\\]^_`{|}~', split=' '))\n",
    "\n",
    "\n",
    "#Tokenizing test sentences\n",
    "l_test=[]\n",
    "for i in range(len(x_test)):\n",
    "    l_test.append(keras.preprocessing.text.one_hot(x_test[i], 17839, filters='!\"#$%&()*+,-./:;<=>?@[\\]^_`{|}~', split=' '))\n"
   ]
  },
  {
   "cell_type": "markdown",
   "metadata": {},
   "source": [
    "**Padding input data**\n",
    "\n",
    "Models in Keras (and elsewhere) take batches of sentences of the same length as input. It is because Deep Learning framework have been designed to handle well Tensors, which are particularly suited for fast computation on the GPU.\n",
    "\n",
    "Since sentences have different sizes, we \"pad\" them. That is, we add dummy \"padding\" tokens so that they all have the same length.\n",
    "\n",
    "The input to a Keras model thus has this size : (batchsize, maxseqlen) where maxseqlen is the maximum length of a sentence in the batch."
   ]
  },
  {
   "cell_type": "code",
   "execution_count": 6,
   "metadata": {},
   "outputs": [],
   "source": [
    "# 3 - Pad your sequences using keras.preprocessing.sequence.pad_sequences\n",
    "#     https://keras.io/preprocessing/sequence/\n",
    "\n",
    "#Finding longest list in a list of lists\n",
    "def longest(list1):\n",
    "    longest_list = max(len(elem) for elem in list1)\n",
    "    return longest_list\n",
    "\n",
    "#Padding function\n",
    "def padding(l):\n",
    "    pad = keras.preprocessing.sequence.pad_sequences(l, maxlen=max(longest(l_train),longest(l_dev),longest(l_test)), dtype='int32', padding='pre', truncating='pre', value=0.0)\n",
    "    return pad   \n",
    "\n",
    "#Padding my lists\n",
    "x_train_pad = padding(l_train)\n",
    "x_dev_pad = padding(l_dev)\n",
    "x_test_pad = padding(l_test)"
   ]
  },
  {
   "cell_type": "markdown",
   "metadata": {},
   "source": [
    "## 4.2 - Design and train your model"
   ]
  },
  {
   "cell_type": "code",
   "execution_count": 7,
   "metadata": {},
   "outputs": [],
   "source": [
    "# 4 - Design your encoder + classifier using keras.layers\n",
    "#     In Keras, Torch and other deep learning framework, we create a \"container\" which is the Sequential() module.\n",
    "#     Then we add components to this contained : the lookuptable, the LSTM, the classifier etc.\n",
    "#     All of these components are contained in the Sequential() and are trained together.\n",
    "\n",
    "\n",
    "# ADAPT CODE BELOW\n",
    "from keras.models import Sequential\n",
    "from keras.layers import Embedding, LSTM, Dense, Activation\n",
    "\n",
    "embed_dim  = 256  # word embedding dimension\n",
    "nhid       = 64  # number of hidden units in the LSTM\n",
    "vocab_size = vocab  # size of the vocabulary\n",
    "n_classes  = 5\n",
    "length_max = longest(x_train_pad)\n",
    "\n",
    "model = Sequential()\n",
    "model.add(Embedding(vocab_size, embed_dim,input_length = length_max))\n",
    "model.add(LSTM(nhid, dropout=0.2, recurrent_dropout=0.2))\n",
    "model.add(Dense(n_classes, activation='sigmoid'))\n"
   ]
  },
  {
   "cell_type": "code",
   "execution_count": 8,
   "metadata": {},
   "outputs": [
    {
     "data": {
      "text/plain": [
       "52"
      ]
     },
     "execution_count": 8,
     "metadata": {},
     "output_type": "execute_result"
    }
   ],
   "source": [
    "longest(x_train_pad)"
   ]
  },
  {
   "cell_type": "code",
   "execution_count": 9,
   "metadata": {},
   "outputs": [
    {
     "name": "stdout",
     "output_type": "stream",
     "text": [
      "_________________________________________________________________\n",
      "Layer (type)                 Output Shape              Param #   \n",
      "=================================================================\n",
      "embedding_1 (Embedding)      (None, 52, 256)           5001728   \n",
      "_________________________________________________________________\n",
      "lstm_1 (LSTM)                (None, 64)                82176     \n",
      "_________________________________________________________________\n",
      "dense_1 (Dense)              (None, 5)                 325       \n",
      "=================================================================\n",
      "Total params: 5,084,229\n",
      "Trainable params: 5,084,229\n",
      "Non-trainable params: 0\n",
      "_________________________________________________________________\n",
      "None\n"
     ]
    }
   ],
   "source": [
    "# 5 - Define your loss/optimizer/metrics\n",
    "\n",
    "# MODIFY CODE BELOW\n",
    "\n",
    "loss_classif     =  'categorical_crossentropy' # find the right loss for multi-class classification\n",
    "optimizer        =  'rmsprop' # find the right optimizer\n",
    "metrics_classif  =  ['accuracy']\n",
    "\n",
    "# Observe how easy (but blackboxed) this is in Keras\n",
    "model.compile(loss=loss_classif,\n",
    "              optimizer=optimizer,\n",
    "              metrics=metrics_classif)\n",
    "print(model.summary())"
   ]
  },
  {
   "cell_type": "code",
   "execution_count": 10,
   "metadata": {
    "scrolled": false
   },
   "outputs": [
    {
     "name": "stdout",
     "output_type": "stream",
     "text": [
      "Train on 8544 samples, validate on 1101 samples\n",
      "Epoch 1/6\n",
      "8544/8544 [==============================] - 15s 2ms/step - loss: 1.5618 - acc: 0.2856 - val_loss: 1.5229 - val_acc: 0.3270\n",
      "Epoch 2/6\n",
      "8544/8544 [==============================] - 14s 2ms/step - loss: 1.3804 - acc: 0.3893 - val_loss: 1.4327 - val_acc: 0.3706\n",
      "Epoch 3/6\n",
      "8544/8544 [==============================] - 14s 2ms/step - loss: 1.1849 - acc: 0.4542 - val_loss: 1.3976 - val_acc: 0.3960\n",
      "Epoch 4/6\n",
      "8544/8544 [==============================] - 32s 4ms/step - loss: 1.0422 - acc: 0.5092 - val_loss: 1.4742 - val_acc: 0.3688\n",
      "Epoch 5/6\n",
      "8544/8544 [==============================] - 20s 2ms/step - loss: 0.9108 - acc: 0.5816 - val_loss: 1.5833 - val_acc: 0.3797\n",
      "Epoch 6/6\n",
      "8544/8544 [==============================] - 21s 3ms/step - loss: 0.7940 - acc: 0.6629 - val_loss: 1.7326 - val_acc: 0.3733\n"
     ]
    }
   ],
   "source": [
    "# 6 - Train your model and find the best hyperparameters for your dev set\n",
    "#     you will be evaluated on the quality of your predictions on the test set\n",
    "\n",
    "# ADAPT CODE BELOW\n",
    "bs = 64\n",
    "n_epochs = 6\n",
    "history = model.fit(x_train_pad, y_train, batch_size=bs, epochs=n_epochs, validation_data=(x_dev_pad, y_dev))"
   ]
  },
  {
   "cell_type": "code",
   "execution_count": 12,
   "metadata": {},
   "outputs": [
    {
     "data": {
      "image/png": "[encoded data removed]",
      "text/plain": [
       "<Figure size 432x288 with 1 Axes>"
      ]
     },
     "metadata": {
      "needs_background": "light"
     },
     "output_type": "display_data"
    },
    {
     "data": {
      "image/png": "[encoded data removed]",
      "text/plain": [
       "<Figure size 432x288 with 1 Axes>"
      ]
     },
     "metadata": {
      "needs_background": "light"
     },
     "output_type": "display_data"
    }
   ],
   "source": [
    "import matplotlib.pyplot as plt\n",
    "\n",
    "# plot history for accuracy with respect to the number of epochs\n",
    "plt.plot(history.history['acc'],color = 'red')\n",
    "plt.plot(history.history['val_acc'], color='green')\n",
    "plt.title('Model Accuracy')\n",
    "plt.ylabel('Accuracy')\n",
    "plt.xlabel('Epoch')\n",
    "plt.legend(['train', 'dev'], loc='upper left')\n",
    "plt.show()\n",
    "\n",
    "# plot history for loss with respect to the number of epochs\n",
    "plt.plot(history.history['loss'],color = 'red')\n",
    "plt.plot(history.history['val_loss'], color='green')\n",
    "plt.title('Model Loss')\n",
    "plt.ylabel('Loss')\n",
    "plt.xlabel('Epoch')\n",
    "plt.legend(['train', 'dev'], loc='upper left')\n",
    "plt.show()"
   ]
  },
  {
   "cell_type": "code",
   "execution_count": 35,
   "metadata": {},
   "outputs": [],
   "source": [
    "# 7 - Generate your predictions on the test set using model.predict(x_test)\n",
    "#     https://keras.io/models/model/\n",
    "#     Log your predictions in a file (one line = one integer: 0,1,2,3,4)\n",
    "#     Attach the output file \"logreg_lstm_y_test_sst.txt\" to your deliverable.\n",
    "\n",
    "y_predict = model.predict(x_test_pad)\n",
    "y_predict = np.argmax(y_predict, axis=1)\n",
    "with open(\"logreg_lstm_y_test_sst.txt\",\"w\") as pred1:\n",
    "    for row in y_predict:\n",
    "        pred1.write(str(row))\n",
    "        pred1.write('\\n')\n",
    "        \n",
    "\n"
   ]
  },
  {
   "cell_type": "markdown",
   "metadata": {},
   "source": [
    "## 4.3 -- innovate !"
   ]
  },
  {
   "cell_type": "code",
   "execution_count": 94,
   "metadata": {},
   "outputs": [
    {
     "name": "stdout",
     "output_type": "stream",
     "text": [
      "_________________________________________________________________\n",
      "Layer (type)                 Output Shape              Param #   \n",
      "=================================================================\n",
      "embedding_27 (Embedding)     (None, 52, 256)           5001728   \n",
      "_________________________________________________________________\n",
      "dropout_28 (Dropout)         (None, 52, 256)           0         \n",
      "_________________________________________________________________\n",
      "conv1d_27 (Conv1D)           (None, 50, 250)           192250    \n",
      "_________________________________________________________________\n",
      "dropout_29 (Dropout)         (None, 50, 250)           0         \n",
      "_________________________________________________________________\n",
      "flatten_25 (Flatten)         (None, 12500)             0         \n",
      "_________________________________________________________________\n",
      "dense_30 (Dense)             (None, 5)                 62505     \n",
      "=================================================================\n",
      "Total params: 5,256,483\n",
      "Trainable params: 5,256,483\n",
      "Non-trainable params: 0\n",
      "_________________________________________________________________\n",
      "None\n"
     ]
    }
   ],
   "source": [
    "# 8 - Open question: find a model that is better on your dev set\n",
    "#     (e.g: use a 1D ConvNet, use a better classifier, pretrain your lookup tables ..)\n",
    "#     you will get point if the results on the test set are better: be careful of not overfitting your dev set too much..\n",
    "#     Attach the output file \"XXX_XXX_y_test_sst.txt\" to your deliverable.\n",
    "from keras.layers import Conv1D,Flatten,MaxPool1D,Dropout,BatchNormalization\n",
    "from keras.callbacks import EarlyStopping\n",
    "from keras import optimizers\n",
    "from keras.constraints import max_norm\n",
    "early_stopping_monitor = EarlyStopping(patience=2)\n",
    "model2 = Sequential()\n",
    "model2.add(Embedding(vocab, 256, input_length = length_max))\n",
    "model2.add(Dropout(0.3))\n",
    "model2.add(Conv1D(250,kernel_size=3,activation =\"relu\"))\n",
    "model2.add(Dropout(0.3))\n",
    "model2.add(Flatten())\n",
    "model2.add(Dense(5,activation = \"softmax\"))\n",
    "model2.compile(optimizer = 'rmsprop',loss = 'categorical_crossentropy',metrics  =  ['accuracy'])\n",
    "print(model2.summary())\n",
    "\n"
   ]
  },
  {
   "cell_type": "code",
   "execution_count": 95,
   "metadata": {},
   "outputs": [
    {
     "name": "stdout",
     "output_type": "stream",
     "text": [
      "Train on 8544 samples, validate on 1101 samples\n",
      "Epoch 1/10\n",
      "8544/8544 [==============================] - 20s 2ms/step - loss: 1.5658 - acc: 0.2787 - val_loss: 1.5388 - val_acc: 0.3424\n",
      "Epoch 2/10\n",
      "8544/8544 [==============================] - 17s 2ms/step - loss: 1.3660 - acc: 0.4232 - val_loss: 1.4102 - val_acc: 0.3942\n",
      "Epoch 3/10\n",
      "8544/8544 [==============================] - 17s 2ms/step - loss: 1.0394 - acc: 0.5938 - val_loss: 1.4115 - val_acc: 0.3869\n",
      "Epoch 4/10\n",
      "8544/8544 [==============================] - 17s 2ms/step - loss: 0.7334 - acc: 0.7540 - val_loss: 1.5597 - val_acc: 0.3497\n"
     ]
    }
   ],
   "source": [
    "history2 = model2.fit(x_train_pad,y_train,epochs = 10,validation_data=(x_dev_pad, y_dev),batch_size = bs,callbacks=[early_stopping_monitor])"
   ]
  },
  {
   "cell_type": "code",
   "execution_count": 96,
   "metadata": {},
   "outputs": [
    {
     "data": {
      "image/png": "[encoded data removed]",
      "text/plain": [
       "<Figure size 432x288 with 1 Axes>"
      ]
     },
     "metadata": {
      "needs_background": "light"
     },
     "output_type": "display_data"
    },
    {
     "data": {
      "image/png": "[encoded data removed]",
      "text/plain": [
       "<Figure size 432x288 with 1 Axes>"
      ]
     },
     "metadata": {
      "needs_background": "light"
     },
     "output_type": "display_data"
    }
   ],
   "source": [
    "# plot history for accuracy with respect to the number of epochs\n",
    "plt.plot(history2.history['acc'],color = 'red')\n",
    "plt.plot(history2.history['val_acc'], color='green')\n",
    "plt.title('Model Accuracy')\n",
    "plt.ylabel('Accuracy')\n",
    "plt.xlabel('Epoch')\n",
    "plt.legend(['train', 'dev'], loc='upper left')\n",
    "plt.show()\n",
    "\n",
    "# plot history for loss with respect to the number of epochs\n",
    "plt.plot(history2.history['loss'],color = 'red')\n",
    "plt.plot(history2.history['val_loss'], color='green')\n",
    "plt.title('Model Loss')\n",
    "plt.ylabel('Loss')\n",
    "plt.xlabel('Epoch')\n",
    "plt.legend(['train', 'dev'], loc='upper left')\n",
    "plt.show()"
   ]
  },
  {
   "cell_type": "code",
   "execution_count": 97,
   "metadata": {},
   "outputs": [],
   "source": [
    "y_predict2 = model2.predict(x_test_pad)\n",
    "y_predict2 = np.argmax(y_predict2, axis=1)\n",
    "with open(\"Convol_y_test_sst.txt\",\"w\") as pred1:\n",
    "    for row in y_predict:\n",
    "        pred1.write(str(row))\n",
    "        pred1.write('\\n')"
   ]
  },
  {
   "cell_type": "code",
   "execution_count": null,
   "metadata": {},
   "outputs": [],
   "source": []
  }
 ],
 "metadata": {
  "kernelspec": {
   "display_name": "Python 3",
   "language": "python",
   "name": "python3"
  },
  "language_info": {
   "codemirror_mode": {
    "name": "ipython",
    "version": 3
   },
   "file_extension": ".py",
   "mimetype": "text/x-python",
   "name": "python",
   "nbconvert_exporter": "python",
   "pygments_lexer": "ipython3",
   "version": "3.6.7"
  }
 },
 "nbformat": 4,
 "nbformat_minor": 1
}
